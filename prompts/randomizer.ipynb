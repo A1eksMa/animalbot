{
 "cells": [
  {
   "cell_type": "code",
   "execution_count": 21,
   "id": "0b5f69c3-a9f4-401a-bf96-3ded87c1e813",
   "metadata": {},
   "outputs": [],
   "source": [
    "from functions import get_random_item, read_json, write_json"
   ]
  },
  {
   "cell_type": "code",
   "execution_count": 74,
   "id": "9d6303d5-79d5-4ccd-b95e-818fd42c8043",
   "metadata": {},
   "outputs": [],
   "source": [
    "def get_random_n(n: int) -> dict:\n",
    "    return {i : \" \".join([get_random_item(\"../json/qualities.json\"),\n",
    "                          get_random_item(\"../json/animals.json\")],\n",
    "                         ) for i in range(1,n+1)}"
   ]
  },
  {
   "cell_type": "code",
   "execution_count": 75,
   "id": "62beeaaa-e202-4913-867b-c88744611554",
   "metadata": {
    "scrolled": true
   },
   "outputs": [
    {
     "data": {
      "text/plain": [
       "{1: 'Непоколебимый Бабочка',\n",
       " 2: 'Методичный Муравей',\n",
       " 3: 'гордый Лиса',\n",
       " 4: 'молодой Ястреб',\n",
       " 5: 'Радостный Павлин',\n",
       " 6: 'Обходителен Фазан',\n",
       " 7: 'замечательный Гадюка',\n",
       " 8: 'хитрый Папуга',\n",
       " 9: 'Гибкий Слон',\n",
       " 10: 'Настойчивый Черепаха'}"
      ]
     },
     "execution_count": 75,
     "metadata": {},
     "output_type": "execute_result"
    }
   ],
   "source": [
    "random_totems = get_random_n(10)\n",
    "random_totems"
   ]
  },
  {
   "cell_type": "code",
   "execution_count": 76,
   "id": "3b028bdc-5593-4892-bbf9-8494f811928a",
   "metadata": {},
   "outputs": [],
   "source": [
    "totems =  read_json(\"human_qualities\", \"../json/totems.json\")"
   ]
  },
  {
   "cell_type": "code",
   "execution_count": 80,
   "id": "134ea1ba-3ecf-4519-83f8-5915e4dd5d74",
   "metadata": {},
   "outputs": [],
   "source": [
    "totems.add('Терпеливая Черепаха')"
   ]
  },
  {
   "cell_type": "code",
   "execution_count": 79,
   "id": "8660f64a-eaf7-48b9-85b4-592cb966c1d8",
   "metadata": {},
   "outputs": [
    {
     "name": "stdin",
     "output_type": "stream",
     "text": [
      " 11\n"
     ]
    },
    {
     "data": {
      "text/plain": [
       "{'Бесстрашный Олень',\n",
       " 'Взбалмошный Конь',\n",
       " 'Глупый Пингвин',\n",
       " 'Дружелюбный Вомбат',\n",
       " 'Жадная Гусыня',\n",
       " 'Застенчивый Медведь',\n",
       " 'Злопамятный Кот',\n",
       " 'Мнительный Крокодил',\n",
       " 'Непостижимый Птиц',\n",
       " 'Непредсказуемый Аксолотль',\n",
       " 'Неудачливый Муравей',\n",
       " 'Неуправляемый Жираф',\n",
       " 'Неустанно-работающий мистер Ящерица',\n",
       " 'Обманчивый Мыш',\n",
       " 'Обходителен Фазан',\n",
       " 'Озорной Енот',\n",
       " 'Подкаченный Осел',\n",
       " 'Радостный Павлин',\n",
       " 'Светский Лев',\n",
       " 'Синий Зайчик',\n",
       " 'Упоротый Мыш'}"
      ]
     },
     "execution_count": 79,
     "metadata": {},
     "output_type": "execute_result"
    }
   ],
   "source": [
    "i = input()\n",
    "i = int(i)\n",
    "if i in random_totems.keys():\n",
    "    totems.add(random_totems[i])\n",
    "totems"
   ]
  },
  {
   "cell_type": "code",
   "execution_count": 81,
   "id": "8fafc586-fae6-416e-aedd-2131d3e43c62",
   "metadata": {},
   "outputs": [],
   "source": [
    "write_json(\"human_qualities\", totems, \"../json/totems.json\")"
   ]
  },
  {
   "cell_type": "code",
   "execution_count": 57,
   "id": "176006d8-3298-4235-bfa5-24e9efdccdda",
   "metadata": {},
   "outputs": [
    {
     "data": {
      "text/plain": [
       "'Дружелюбный Вомбат'"
      ]
     },
     "execution_count": 57,
     "metadata": {},
     "output_type": "execute_result"
    }
   ],
   "source": [
    "get_random_item(\"../json/totems.json\")"
   ]
  },
  {
   "cell_type": "code",
   "execution_count": null,
   "id": "df965c6a-1b46-41b0-8854-8a69287f7288",
   "metadata": {},
   "outputs": [],
   "source": []
  }
 ],
 "metadata": {
  "kernelspec": {
   "display_name": "Python 3 (ipykernel)",
   "language": "python",
   "name": "python3"
  },
  "language_info": {
   "codemirror_mode": {
    "name": "ipython",
    "version": 3
   },
   "file_extension": ".py",
   "mimetype": "text/x-python",
   "name": "python",
   "nbconvert_exporter": "python",
   "pygments_lexer": "ipython3",
   "version": "3.11.2"
  }
 },
 "nbformat": 4,
 "nbformat_minor": 5
}
